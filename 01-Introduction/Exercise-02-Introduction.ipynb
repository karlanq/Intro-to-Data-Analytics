{
 "cells": [
  {
   "cell_type": "markdown",
   "metadata": {},
   "source": [
    "# Exercise 1\n",
    "For this exercise we are going to get more familiar with Jupyter notebooks. Follow these steps to complete the task:\n",
    "\n",
    "* Create a new notebook: to do this click on New button from your Jupyter home page and select a notebook type that you'd like to run (Python 3 for this exercise)\n",
    "* Click on the first cell of your notebook and change its type to Markdown - You can do this by selecting the cell type from the drop down right above the top cell. Default is set to Code.\n",
    "* In your Markdown cell type some description, something like:\n",
    "\n",
    "```\n",
    "# Python version\n",
    "The following code provides the version of the Python that this notebook is running on:\n",
    "```\n",
    "\n",
    "* Now hit Shift + Enter to see the rendered text.\n",
    "* You should have a new cell below that has a Code type by default.\n",
    "* In this Code cell type the following code to get the version of your Python:\n",
    "\n",
    "```python\n",
    "import sys\n",
    "print(sys.version)\n",
    "```\n",
    "\n",
    "* Hit Shift + Enter for it to run.\n",
    "* Give your notebook a good name. You can modify the name of your notebook by clicking on the current name (Untitled) on the top. Call it anything you think is descriptive of this notebook, something like My First Notebook!\n",
    "* You can run your notebook from top to bottom by selecting Kernel > Restart & Run All from the menu. Try it! This is particularly useful after you are done working on a notebook to make sure everything works as expected.\n",
    "* Save your notebook - Either by clicking on the save icon or from File > Save & Checkpoint from the menu or by hitting Ctrl + s (Command + s for mac users).\n",
    "* Exit - If you close the notebook by closing the browser, the kernel won't be stopped and it could still occupy some memory of your system. A neat way to close a notebook is by File > Close and Halt. You also have the option of shutting down your running notebook(s) from the Home screen if you hadn't performed this step."
   ]
  },
  {
   "cell_type": "code",
   "execution_count": null,
   "metadata": {},
   "outputs": [],
   "source": []
  }
 ],
 "metadata": {
  "kernelspec": {
   "display_name": "Python 3",
   "language": "python",
   "name": "python3"
  },
  "language_info": {
   "codemirror_mode": {
    "name": "ipython",
    "version": 3
   },
   "file_extension": ".py",
   "mimetype": "text/x-python",
   "name": "python",
   "nbconvert_exporter": "python",
   "pygments_lexer": "ipython3",
   "version": "3.7.2"
  }
 },
 "nbformat": 4,
 "nbformat_minor": 2
}